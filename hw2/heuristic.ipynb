{
 "cells": [
  {
   "cell_type": "code",
   "execution_count": 117,
   "metadata": {},
   "outputs": [],
   "source": [
    "import numpy as np\n",
    "import pandas as pd"
   ]
  },
  {
   "cell_type": "markdown",
   "metadata": {},
   "source": [
    "### Load parameter"
   ]
  },
  {
   "cell_type": "code",
   "execution_count": 118,
   "metadata": {},
   "outputs": [],
   "source": [
    "sheet = \"Problem 3 Instance 2\"\n",
    "file = \"OR112-2_hw02_data.xlsx\"\n",
    "\n",
    "m = pd.read_excel(file,usecols=\"B:B\",nrows=1,sheet_name=sheet)\n",
    "m = int(m.columns.item())\n",
    "n = pd.read_excel(file,usecols=\"B:B\",skiprows=range(1),nrows=1,sheet_name=sheet)\n",
    "n = int(n.columns.item())\n",
    "p = pd.read_excel(file,usecols=\"B:B\",skiprows=range(2),nrows=1,sheet_name=sheet)\n",
    "p = int(p.columns.item())\n",
    "\n",
    "d = pd.read_excel(file,usecols=\"E:\"+chr(ord('E')+n-1),skiprows=range(4),nrows=m,sheet_name=sheet)\n",
    "d = d.to_numpy()\n",
    "\n",
    "h = pd.read_excel(file,usecols=\"B:B\",skiprows=range(4),nrows=m,sheet_name=sheet)\n",
    "h = h.to_numpy()"
   ]
  },
  {
   "cell_type": "markdown",
   "metadata": {},
   "source": [
    "## Algorithm\n",
    "### Greedy"
   ]
  },
  {
   "cell_type": "code",
   "execution_count": 119,
   "metadata": {},
   "outputs": [],
   "source": [
    "def objfunc(h,d,x):\n",
    "    total = 0\n",
    "    for i in range(h.shape[0]):\n",
    "        total += h[i] * min(d[i,x.astype(bool)])\n",
    "    return total.item()\n",
    "\n"
   ]
  },
  {
   "cell_type": "code",
   "execution_count": 120,
   "metadata": {},
   "outputs": [
    {
     "name": "stdout",
     "output_type": "stream",
     "text": [
      "[0. 1. 0. 1. 0. 1. 0. 0. 1. 1.]\n",
      "65364\n"
     ]
    }
   ],
   "source": [
    "x = np.ones(n)\n",
    "for i in range(n-p):\n",
    "    total = np.zeros(n)\n",
    "    for j in range(n-i):\n",
    "        tmp_x = x.copy()\n",
    "        if tmp_x[j] == 1:\n",
    "            tmp_x[j] = 0\n",
    "            total[j] = objfunc(h,d,tmp_x)\n",
    "    x[np.argmax(total)] = 0\n",
    "print(x)\n",
    "print(objfunc(h,d,x))\n"
   ]
  },
  {
   "cell_type": "code",
   "execution_count": 121,
   "metadata": {},
   "outputs": [
    {
     "name": "stdout",
     "output_type": "stream",
     "text": [
      "x_1 = 0, x_2 = 1, x_3 = 0, x_4 = 1, x_5 = 0, x_6 = 1, x_7 = 0, x_8 = 0, x_9 = 1, x_10 = 1, \n",
      "w_1 = 48, w_2 = 37, w_3 = 67, w_4 = 45, w_5 = 87, w_6 = 55, w_7 = 76, w_8 = 108, w_9 = 26, w_10 = 107, w_11 = 37, w_12 = 121, w_13 = 29, w_14 = 88, w_15 = 56, w_16 = 85, w_17 = 100, w_18 = 71, w_19 = 7, w_20 = 23, "
     ]
    }
   ],
   "source": [
    "for i in range(n):\n",
    "    print(f\"x_{i+1} = {int(x[i])}\", end=', ')\n",
    "print()\n",
    "for j in range(m):\n",
    "    print(f\"w_{j+1} = {min(d[j,x.astype(bool)])}\", end=', ')"
   ]
  },
  {
   "cell_type": "markdown",
   "metadata": {},
   "source": [
    "### LR"
   ]
  },
  {
   "cell_type": "code",
   "execution_count": 122,
   "metadata": {},
   "outputs": [
    {
     "name": "stdout",
     "output_type": "stream",
     "text": [
      "Gurobi Optimizer version 11.0.1 build v11.0.1rc0 (linux64 - \"EndeavourOS\")\n",
      "\n",
      "CPU model: Intel(R) Core(TM) i5-10400F CPU @ 2.90GHz, instruction set [SSE2|AVX|AVX2]\n",
      "Thread count: 6 physical cores, 12 logical processors, using up to 12 threads\n",
      "\n",
      "Optimize a model with 201 rows, 30 columns and 389 nonzeros\n",
      "Model fingerprint: 0x63863c25\n",
      "Coefficient statistics:\n",
      "  Matrix range     [1e+00, 2e+02]\n",
      "  Objective range  [1e+01, 1e+02]\n",
      "  Bounds range     [1e+00, 1e+00]\n",
      "  RHS range        [5e+00, 2e+02]\n",
      "Presolve removed 21 rows and 0 columns\n",
      "Presolve time: 0.00s\n",
      "Presolved: 180 rows, 30 columns, 368 nonzeros\n",
      "\n",
      "Iteration    Objective       Primal Inf.    Dual Inf.      Time\n",
      "       0    1.8780500e+05   8.000000e+01   0.000000e+00      0s\n",
      "      69    1.1781042e+05   0.000000e+00   0.000000e+00      0s\n",
      "\n",
      "Solved in 69 iterations and 0.00 seconds (0.00 work units)\n",
      "Optimal objective  1.178104228e+05\n",
      "&x_{0} = 0.47636549575898146,\\\\ &x_{1} = 0.444908809010339,\\\\ &x_{2} = 0.433059541599074,\\\\ &x_{3} = 0.4390081616759844,\\\\ &x_{4} = 0.6125695279199782,\\\\ &x_{5} = 0.5543705001160574,\\\\ &x_{6} = 0.47559217514898305,\\\\ &x_{7} = 0.36340660833488725,\\\\ &x_{8} = 0.4909176989787073,\\\\ &x_{9} = 0.7098014814570079,\\\\ &w_{0} = 99.05025728748542,\\\\ &w_{1} = 104.31902059888188,\\\\ &w_{2} = 94.16707381712249,\\\\ &w_{3} = 97.48131201512194,\\\\ &w_{4} = 145.03538231642736,\\\\ &w_{5} = 111.20818963310487,\\\\ &w_{6} = 92.7336763833139,\\\\ &w_{7} = 109.07248555133242,\\\\ &w_{8} = 108.25805798560889,\\\\ &w_{9} = 123.40131623307849,\\\\ &w_{10} = 112.85326285217262,\\\\ &w_{11} = 113.39969319976805,\\\\ &w_{12} = 85.09918383240156,\\\\ &w_{13} = 128.0328550081111,\\\\ &w_{14} = 108.62348076203847,\\\\ &w_{15} = 91.98887553280349,\\\\ &w_{16} = 112.95406762586475,\\\\ &w_{17} = 91.465405147043,\\\\ &w_{18} = 94.14931698537677,\\\\ &w_{19} = 84.05124148410015,\\\\ "
     ]
    }
   ],
   "source": [
    "from gurobipy import *\n",
    "import numpy as np\n",
    "import pandas as pd\n",
    "\n",
    "sheet = \"Problem 3 Instance 2\"\n",
    "file = \"OR112-2_hw02_data.xlsx\"\n",
    "model = Model(sheet)\n",
    "\n",
    "m = pd.read_excel(file,usecols=\"B:B\",nrows=1,sheet_name=sheet)\n",
    "m = int(m.columns.item())\n",
    "n = pd.read_excel(file,usecols=\"B:B\",skiprows=range(1),nrows=1,sheet_name=sheet)\n",
    "n = int(n.columns.item())\n",
    "p = pd.read_excel(file,usecols=\"B:B\",skiprows=range(2),nrows=1,sheet_name=sheet)\n",
    "p = int(p.columns.item())\n",
    "\n",
    "d = pd.read_excel(file,usecols=\"E:\"+chr(ord('E')+n-1),skiprows=range(4),nrows=m,sheet_name=sheet)\n",
    "d = d.to_numpy()\n",
    "\n",
    "h = pd.read_excel(file,usecols=\"B:B\",skiprows=range(4),nrows=m,sheet_name=sheet)\n",
    "h = h.to_numpy()\n",
    "\n",
    "x = model.addVars(n,lb=0.0,ub=1.0,vtype=GRB.CONTINUOUS, name=\"x\")\n",
    "w = model.addVars(m,vtype=GRB.CONTINUOUS, name=\"w\")\n",
    "\n",
    "model.setObjective(quicksum(h[i][0]*w[i] for i in range(m)), GRB.MAXIMIZE)\n",
    "\n",
    "model.addConstr(quicksum(x[i] for i in range(n)) >= p)\n",
    "for i in range(m):\n",
    "    for j in range(n):\n",
    "        model.addConstr(w[i] <= d[i][j]*x[j]+np.max(d[i])*(1-x[j]))\n",
    "\n",
    "model.optimize()\n",
    "x = []\n",
    "# for v in model.getVars():\n",
    "#     print('%s %g' % (v.varName, v.x))\n",
    "#     x.append(v.x)\n",
    "\n",
    "for v in model.getVars():\n",
    "    print(f\"&{v.varName.replace('[','_{').replace(']','}')} = {v.x}\", end=',\\\\\\\\ ')\n",
    "    x.append(v.x)\n",
    "\n",
    "x = x[:n]"
   ]
  },
  {
   "cell_type": "code",
   "execution_count": 123,
   "metadata": {},
   "outputs": [
    {
     "name": "stdout",
     "output_type": "stream",
     "text": [
      "[0.47636549575898146, 0.444908809010339, 0.433059541599074, 0.4390081616759844, 0.6125695279199782, 0.5543705001160574, 0.47559217514898305, 0.36340660833488725, 0.4909176989787073, 0.7098014814570079]\n",
      "&x_1 = 1,\\\\\n",
      " &x_2 = 0,\\\\\n",
      " &x_3 = 0,\\\\\n",
      " &x_4 = 0,\\\\\n",
      " &x_5 = 1,\\\\\n",
      " &x_6 = 1,\\\\\n",
      " &x_7 = 0,\\\\\n",
      " &x_8 = 0,\\\\\n",
      " &x_9 = 1,\\\\\n",
      " &x_10 = 1,\\\\\n",
      " w_{1} = 79, w_{2} = 71, w_{3} = 50, w_{4} = 63, w_{5} = 87, w_{6} = 55, w_{7} = 71, w_{8} = 41, w_{9} = 53, w_{10} = 62, w_{11} = 37, w_{12} = 27, w_{13} = 91, w_{14} = 81, w_{15} = 77, w_{16} = 30, w_{17} = 76, w_{18} = 38, w_{19} = 38, w_{20} = 23, 63044\n"
     ]
    }
   ],
   "source": [
    "tmp_x = np.zeros(n)\n",
    "print(x)\n",
    "for i in range(p):\n",
    "    tmp_x[np.argmax(x)] = 1\n",
    "    x[np.argmax(x)] = 0\n",
    "\n",
    "for i in range(n):\n",
    "    print(f\"&x_{i+1} = {int(tmp_x[i])}\", end=',\\\\\\\\\\n ')\n",
    "for i in range(m):\n",
    "    print(f\"w_{{{i+1}}} = {min(d[i,tmp_x.astype(bool)])}\", end=', ')\n",
    "print(objfunc(h,d,tmp_x))"
   ]
  }
 ],
 "metadata": {
  "kernelspec": {
   "display_name": "or",
   "language": "python",
   "name": "python3"
  },
  "language_info": {
   "codemirror_mode": {
    "name": "ipython",
    "version": 3
   },
   "file_extension": ".py",
   "mimetype": "text/x-python",
   "name": "python",
   "nbconvert_exporter": "python",
   "pygments_lexer": "ipython3",
   "version": "3.12.2"
  }
 },
 "nbformat": 4,
 "nbformat_minor": 2
}
