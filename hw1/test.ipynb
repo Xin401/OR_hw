{
 "cells": [
  {
   "cell_type": "code",
   "execution_count": 11,
   "metadata": {},
   "outputs": [],
   "source": [
    "from gurobipy import *"
   ]
  },
  {
   "cell_type": "code",
   "execution_count": 12,
   "metadata": {},
   "outputs": [
    {
     "name": "stdout",
     "output_type": "stream",
     "text": [
      "Gurobi Optimizer version 11.0.1 build v11.0.1rc0 (mac64[rosetta2] - Darwin 22.6.0 22G91)\n",
      "\n",
      "CPU model: Apple M1\n",
      "Thread count: 8 physical cores, 8 logical processors, using up to 8 threads\n",
      "\n",
      "Optimize a model with 37 rows, 19 columns and 55 nonzeros\n",
      "Model fingerprint: 0x086a5433\n",
      "Coefficient statistics:\n",
      "  Matrix range     [1e+00, 2e+00]\n",
      "  Objective range  [8e+01, 4e+02]\n",
      "  Bounds range     [0e+00, 0e+00]\n",
      "  RHS range        [2e+03, 4e+03]\n",
      "Presolve removed 37 rows and 19 columns\n",
      "Presolve time: 0.01s\n",
      "Presolve: All rows and columns removed\n",
      "Iteration    Objective       Primal Inf.    Dual Inf.      Time\n",
      "       0    8.9440000e+06   0.000000e+00   0.000000e+00      0s\n",
      "\n",
      "Solved in 0 iterations and 0.01 seconds (0.00 work units)\n",
      "Optimal objective  8.944000000e+06\n",
      "x[0,0] 1800\n",
      "x[0,1] 2000\n",
      "x[0,2] 2000\n",
      "x[0,3] 2000\n",
      "x[0,4] 2000\n",
      "x[0,5] 2000\n",
      "x[1,0] 1600\n",
      "x[1,1] 1600\n",
      "x[1,2] 1600\n",
      "x[1,3] 1600\n",
      "x[1,4] 1600\n",
      "x[1,5] 1600\n",
      "h[0] 2000\n",
      "h[1] 2900\n",
      "h[2] 2500\n",
      "h[3] 1600\n",
      "h[4] 1000\n",
      "h[5] 800\n",
      "h[6] 0\n",
      "目標值: 8.944e+06\n"
     ]
    }
   ],
   "source": [
    "# 建立模型\n",
    "m = Model(\"or_hw1\")\n",
    "\n",
    "# 定義參數\n",
    "T = 6\n",
    "I = 2000  # 初始庫存\n",
    "D = [2500,4000,4500,4200,3800,4400]  # 需求量\n",
    "C_P = [400,350]  # 生產成本\n",
    "C_H = 80  # 庫存成本\n",
    "L = [2,2.5]  # 生產上限\n",
    "K = 4000  # 總生產上限\n",
    "\n",
    "# 建立變量\n",
    "x = m.addVars(len(C_P), T, vtype=GRB.CONTINUOUS, name=\"x\")\n",
    "h = m.addVars(T+1, vtype=GRB.CONTINUOUS, name=\"h\")\n",
    "\n",
    "# 設定目標\n",
    "m.setObjective(sum(C_P[i]*x[i, t] for t in range(T) for i in range(len(C_P))) + C_H*sum(h[t] for t in range(T)), GRB.MINIMIZE)\n",
    "\n",
    "# 新增限制條件\n",
    "m.addConstr(h[0] == I, \"init_inventory\")\n",
    "for t in range(T):\n",
    "    m.addConstr(h[t+1] == h[t] + sum(x[i, t] for i in range(len(C_P))) - D[t], \"inventory_balance_%d\" % t)\n",
    "for t in range(T):\n",
    "    for i in range(len(C_P)):\n",
    "        m.addConstr(x[i, t]*L[i] <= K, \"production_capacity_%d_%d\" % (t, i))\n",
    "        m.addConstr(x[i, t] >= 0, \"production_nonnegative_%d_%d\" % (t, i))\n",
    "    m.addConstr(h[t+1] >= 0, \"inventory_nonnegative_%d\" % t)\n",
    "\n",
    "# 優化模型\n",
    "m.optimize()\n",
    "\n",
    "# 輸出結果\n",
    "for v in m.getVars():\n",
    "    print('%s %g' % (v.varName, v.x))\n",
    "\n",
    "print('目標值: %g' % m.objVal)"
   ]
  },
  {
   "cell_type": "code",
   "execution_count": 13,
   "metadata": {},
   "outputs": [
    {
     "name": "stdout",
     "output_type": "stream",
     "text": [
      "8944000.0\n"
     ]
    }
   ],
   "source": [
    "print(8.944*pow(10,6))"
   ]
  },
  {
   "cell_type": "code",
   "execution_count": 14,
   "metadata": {},
   "outputs": [
    {
     "name": "stdout",
     "output_type": "stream",
     "text": [
      "Gurobi Optimizer version 11.0.1 build v11.0.1rc0 (mac64[rosetta2] - Darwin 22.6.0 22G91)\n",
      "\n",
      "CPU model: Apple M1\n",
      "Thread count: 8 physical cores, 8 logical processors, using up to 8 threads\n",
      "\n",
      "Optimize a model with 4 rows, 2 columns and 6 nonzeros\n",
      "Model fingerprint: 0xe45260bd\n",
      "Coefficient statistics:\n",
      "  Matrix range     [9e-01, 7e+00]\n",
      "  Objective range  [9e+00, 2e+01]\n",
      "  Bounds range     [0e+00, 0e+00]\n",
      "  RHS range        [1e+01, 5e+01]\n",
      "Presolve removed 2 rows and 0 columns\n",
      "Presolve time: 0.01s\n",
      "Presolved: 2 rows, 2 columns, 4 nonzeros\n",
      "\n",
      "Iteration    Objective       Primal Inf.    Dual Inf.      Time\n",
      "       0    2.2500000e+02   1.334914e+01   0.000000e+00      0s\n",
      "       3    1.2600000e+02   0.000000e+00   0.000000e+00      0s\n",
      "\n",
      "Solved in 3 iterations and 0.03 seconds (0.00 work units)\n",
      "Optimal objective  1.260000000e+02\n",
      "x[0] 0\n",
      "x[1] 7\n",
      "目標值: 126\n"
     ]
    }
   ],
   "source": [
    "# 建立模型\n",
    "m = Model(\"or_week2\")\n",
    "x = m.addVars(2, vtype=GRB.CONTINUOUS, name=\"x\")\n",
    "m.setObjective(9*x[0]+18*x[1],GRB.MAXIMIZE)\n",
    "m.addConstr(7*x[0]+4*x[1]<=50)\n",
    "m.addConstr(x[0]/1.1+x[1]/0.7<=10)\n",
    "m.addConstr(x[0]>=0)\n",
    "m.addConstr(x[1]>=0)\n",
    "# 優化模型\n",
    "m.optimize()\n",
    "\n",
    "# 輸出結果\n",
    "for v in m.getVars():\n",
    "    print('%s %g' % (v.varName, v.x))\n",
    "\n",
    "print('目標值: %g' % m.objVal)"
   ]
  }
 ],
 "metadata": {
  "kernelspec": {
   "display_name": "or",
   "language": "python",
   "name": "python3"
  },
  "language_info": {
   "codemirror_mode": {
    "name": "ipython",
    "version": 3
   },
   "file_extension": ".py",
   "mimetype": "text/x-python",
   "name": "python",
   "nbconvert_exporter": "python",
   "pygments_lexer": "ipython3",
   "version": "3.12.2"
  }
 },
 "nbformat": 4,
 "nbformat_minor": 2
}
