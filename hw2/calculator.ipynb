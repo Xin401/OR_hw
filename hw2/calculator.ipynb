{
 "cells": [
  {
   "cell_type": "code",
   "execution_count": 2,
   "metadata": {},
   "outputs": [
    {
     "ename": "ModuleNotFoundError",
     "evalue": "No module named 'scipy'",
     "output_type": "error",
     "traceback": [
      "\u001b[0;31m---------------------------------------------------------------------------\u001b[0m",
      "\u001b[0;31mModuleNotFoundError\u001b[0m                       Traceback (most recent call last)",
      "Cell \u001b[0;32mIn[2], line 1\u001b[0m\n\u001b[0;32m----> 1\u001b[0m \u001b[38;5;28;01mfrom\u001b[39;00m \u001b[38;5;21;01mscipy\u001b[39;00m\u001b[38;5;21;01m.\u001b[39;00m\u001b[38;5;21;01moptimize\u001b[39;00m \u001b[38;5;28;01mimport\u001b[39;00m fsolve\n\u001b[1;32m      2\u001b[0m \u001b[38;5;28;01mimport\u001b[39;00m \u001b[38;5;21;01mnumpy\u001b[39;00m \u001b[38;5;28;01mas\u001b[39;00m \u001b[38;5;21;01mnp\u001b[39;00m\n\u001b[1;32m      4\u001b[0m \u001b[38;5;28;01mdef\u001b[39;00m \u001b[38;5;21mfunc\u001b[39m(a):\n",
      "\u001b[0;31mModuleNotFoundError\u001b[0m: No module named 'scipy'"
     ]
    }
   ],
   "source": [
    "from scipy.optimize import fsolve\n",
    "import numpy as np\n",
    "\n",
    "def func(a):\n",
    "    return 268*a - 36*np.exp(-6*a) - 1\n",
    "\n",
    "initial_guess = 0.1\n",
    "solution = fsolve(func, initial_guess)\n",
    "\n",
    "print(f\"The solution is a = {solution[0]}\")"
   ]
  },
  {
   "cell_type": "code",
   "execution_count": 3,
   "metadata": {},
   "outputs": [
    {
     "name": "stdout",
     "output_type": "stream",
     "text": [
      "4.486090434078328\n"
     ]
    }
   ],
   "source": [
    "import numpy as np\n",
    "def objfunc(x_1,x_2):\n",
    "    return 3*pow(x_1,2) + 2*pow(x_2,2) +4*x_1*x_2 +6*np.exp(x_1) + x_2\n",
    "\n",
    "x_1 = -0.5076\n",
    "x_2 = -0.0846\n",
    "print(objfunc(x_1,x_2))"
   ]
  },
  {
   "cell_type": "code",
   "execution_count": null,
   "metadata": {},
   "outputs": [
    {
     "name": "stdout",
     "output_type": "stream",
     "text": [
      "[ 0.625 -0.375]\n",
      "4.102193571113942\n"
     ]
    }
   ],
   "source": [
    "import numpy as np\n",
    "\n",
    "x_1 = 0\n",
    "x_2 = 0\n",
    "\n",
    "hessian = np.array([[6 + 6*np.exp(x_1), 4], [4, 4]])\n",
    "gradient = np.array([6*x_1 + 4*x_2 + 6*np.exp(x_1), 4*x_2 + 4*x_1+1])\n",
    "\n",
    "inv_matrix = np.linalg.inv(hessian)\n",
    "x = np.dot(inv_matrix, gradient)\n",
    "print(x)\n",
    "\n",
    "print(objfunc(x_1-x[0],x_2-x[1]))"
   ]
  }
 ],
 "metadata": {
  "kernelspec": {
   "display_name": "or",
   "language": "python",
   "name": "python3"
  },
  "language_info": {
   "codemirror_mode": {
    "name": "ipython",
    "version": 3
   },
   "file_extension": ".py",
   "mimetype": "text/x-python",
   "name": "python",
   "nbconvert_exporter": "python",
   "pygments_lexer": "ipython3",
   "version": "3.12.2"
  }
 },
 "nbformat": 4,
 "nbformat_minor": 2
}
