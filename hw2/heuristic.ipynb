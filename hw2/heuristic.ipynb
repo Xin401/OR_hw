{
 "cells": [
  {
   "cell_type": "code",
   "execution_count": 132,
   "metadata": {},
   "outputs": [],
   "source": [
    "import numpy as np\n",
    "import pandas as pd"
   ]
  },
  {
   "cell_type": "markdown",
   "metadata": {},
   "source": [
    "### Load parameter"
   ]
  },
  {
   "cell_type": "code",
   "execution_count": 133,
   "metadata": {},
   "outputs": [],
   "source": [
    "sheet = \"Problem 3 Instance 2\"\n",
    "file = \"OR112-2_hw02_data.xlsx\"\n",
    "\n",
    "m = pd.read_excel(file,usecols=\"B:B\",nrows=1,sheet_name=sheet)\n",
    "m = int(m.columns.item())\n",
    "n = pd.read_excel(file,usecols=\"B:B\",skiprows=range(1),nrows=1,sheet_name=sheet)\n",
    "n = int(n.columns.item())\n",
    "p = pd.read_excel(file,usecols=\"B:B\",skiprows=range(2),nrows=1,sheet_name=sheet)\n",
    "p = int(p.columns.item())\n",
    "\n",
    "d = pd.read_excel(file,usecols=\"E:\"+chr(ord('E')+n-1),skiprows=range(4),nrows=m,sheet_name=sheet)\n",
    "d = d.to_numpy()\n",
    "\n",
    "h = pd.read_excel(file,usecols=\"B:B\",skiprows=range(4),nrows=m,sheet_name=sheet)\n",
    "h = h.to_numpy()"
   ]
  },
  {
   "cell_type": "markdown",
   "metadata": {},
   "source": [
    "## Algorithm\n",
    "### Greedy"
   ]
  },
  {
   "cell_type": "code",
   "execution_count": 134,
   "metadata": {},
   "outputs": [],
   "source": [
    "def objfunc(h,d,x):\n",
    "    total = 0\n",
    "    for i in range(h.shape[0]):\n",
    "        total += h[i] * min(d[i,x.astype(bool)])\n",
    "    return total.item()\n",
    "\n"
   ]
  },
  {
   "cell_type": "code",
   "execution_count": 135,
   "metadata": {},
   "outputs": [
    {
     "name": "stdout",
     "output_type": "stream",
     "text": [
      "[0. 1. 0. 1. 0. 1. 0. 0. 1. 1.]\n",
      "65364\n"
     ]
    }
   ],
   "source": [
    "x = np.ones(n)\n",
    "for i in range(n-p):\n",
    "    total = np.zeros(n)\n",
    "    for j in range(n-i):\n",
    "        tmp_x = x.copy()\n",
    "        if tmp_x[j] == 1:\n",
    "            tmp_x[j] = 0\n",
    "            total[j] = objfunc(h,d,tmp_x)\n",
    "    x[np.argmax(total)] = 0\n",
    "print(x)\n",
    "print(objfunc(h,d,x))\n"
   ]
  },
  {
   "cell_type": "code",
   "execution_count": 136,
   "metadata": {},
   "outputs": [
    {
     "name": "stdout",
     "output_type": "stream",
     "text": [
      "x_1 = 0, x_2 = 1, x_3 = 0, x_4 = 1, x_5 = 0, x_6 = 1, x_7 = 0, x_8 = 0, x_9 = 1, x_10 = 1, \n",
      "w_1 = 48, w_2 = 37, w_3 = 67, w_4 = 45, w_5 = 87, w_6 = 55, w_7 = 76, w_8 = 108, w_9 = 26, w_10 = 107, w_11 = 37, w_12 = 121, w_13 = 29, w_14 = 88, w_15 = 56, w_16 = 85, w_17 = 100, w_18 = 71, w_19 = 7, w_20 = 23, "
     ]
    }
   ],
   "source": [
    "for i in range(n):\n",
    "    print(f\"x_{i+1} = {int(x[i])}\", end=', ')\n",
    "print()\n",
    "for j in range(m):\n",
    "    print(f\"w_{j+1} = {min(d[j,x.astype(bool)])}\", end=', ')"
   ]
  },
  {
   "cell_type": "markdown",
   "metadata": {},
   "source": [
    "### LR"
   ]
  },
  {
   "cell_type": "code",
   "execution_count": 137,
   "metadata": {},
   "outputs": [
    {
     "name": "stdout",
     "output_type": "stream",
     "text": [
      "Gurobi Optimizer version 11.0.1 build v11.0.1rc0 (mac64[rosetta2] - Darwin 22.6.0 22G91)\n",
      "\n",
      "CPU model: Apple M1\n",
      "Thread count: 8 physical cores, 8 logical processors, using up to 8 threads\n",
      "\n",
      "Optimize a model with 51 rows, 15 columns and 95 nonzeros\n",
      "Model fingerprint: 0xf307f753\n",
      "Coefficient statistics:\n",
      "  Matrix range     [1e+00, 2e+02]\n",
      "  Objective range  [2e+01, 9e+01]\n",
      "  Bounds range     [1e+00, 1e+00]\n",
      "  RHS range        [3e+00, 2e+02]\n",
      "Presolve removed 10 rows and 0 columns\n",
      "Presolve time: 0.01s\n",
      "Presolved: 41 rows, 15 columns, 85 nonzeros\n",
      "\n",
      "Iteration    Objective       Primal Inf.    Dual Inf.      Time\n",
      "       0    8.2847000e+04   4.800000e+01   0.000000e+00      0s\n",
      "      21    5.3434867e+04   0.000000e+00   0.000000e+00      0s\n",
      "\n",
      "Solved in 21 iterations and 0.01 seconds (0.00 work units)\n",
      "Optimal objective  5.343486724e+04\n",
      "&x_{0} = 0.5949548088466156,\\\\ &x_{1} = 1.0,\\\\ &x_{2} = 0.7487071751777633,\\\\ &x_{3} = 0.38062725090036004,\\\\ &x_{4} = 0.2757107650752609,\\\\ &w_{0} = 100.89225690276112,\\\\ &w_{1} = 124.98912064825932,\\\\ &w_{2} = 75.36506140917906,\\\\ &w_{3} = 137.78343452765722,\\\\ &w_{4} = 96.1551389786684,\\\\ &w_{5} = 122.51162965186076,\\\\ &w_{6} = 58.16325376304368,\\\\ &w_{7} = 126.8417905623788,\\\\ &w_{8} = 94.07424796841813,\\\\ &w_{9} = 30.0,\\\\ "
     ]
    }
   ],
   "source": [
    "from gurobipy import *\n",
    "import numpy as np\n",
    "import pandas as pd\n",
    "\n",
    "sheet = \"Problem 3 Instance 1\"\n",
    "file = \"OR112-2_hw02_data.xlsx\"\n",
    "model = Model(sheet)\n",
    "\n",
    "m = pd.read_excel(file,usecols=\"B:B\",nrows=1,sheet_name=sheet)\n",
    "m = int(m.columns.item())\n",
    "n = pd.read_excel(file,usecols=\"B:B\",skiprows=range(1),nrows=1,sheet_name=sheet)\n",
    "n = int(n.columns.item())\n",
    "p = pd.read_excel(file,usecols=\"B:B\",skiprows=range(2),nrows=1,sheet_name=sheet)\n",
    "p = int(p.columns.item())\n",
    "\n",
    "d = pd.read_excel(file,usecols=\"E:\"+chr(ord('E')+n-1),skiprows=range(4),nrows=m,sheet_name=sheet)\n",
    "d = d.to_numpy()\n",
    "\n",
    "h = pd.read_excel(file,usecols=\"B:B\",skiprows=range(4),nrows=m,sheet_name=sheet)\n",
    "h = h.to_numpy()\n",
    "\n",
    "x = model.addVars(n,lb=0.0,ub=1.0,vtype=GRB.CONTINUOUS, name=\"x\")\n",
    "w = model.addVars(m,vtype=GRB.CONTINUOUS, name=\"w\")\n",
    "\n",
    "model.setObjective(quicksum(h[i][0]*w[i] for i in range(m)), GRB.MAXIMIZE)\n",
    "\n",
    "model.addConstr(quicksum(x[i] for i in range(n)) >= p)\n",
    "for i in range(m):\n",
    "    for j in range(n):\n",
    "        model.addConstr(w[i] <= d[i][j]*x[j]+np.max(d[i])*(1-x[j]))\n",
    "\n",
    "model.optimize()\n",
    "x = []\n",
    "# for v in model.getVars():\n",
    "#     print('%s %g' % (v.varName, v.x))\n",
    "#     x.append(v.x)\n",
    "\n",
    "for v in model.getVars():\n",
    "    print(f\"&{v.varName.replace('[','_{').replace(']','}')} = {v.x}\", end=',\\\\\\\\ ')\n",
    "    x.append(v.x)\n",
    "\n",
    "x = x[:n]"
   ]
  },
  {
   "cell_type": "code",
   "execution_count": 138,
   "metadata": {},
   "outputs": [
    {
     "name": "stdout",
     "output_type": "stream",
     "text": [
      "[0.5949548088466156, 1.0, 0.7487071751777633, 0.38062725090036004, 0.2757107650752609]\n",
      "&x_1 = 1,\\\\\n",
      " &x_2 = 1,\\\\\n",
      " &x_3 = 1,\\\\\n",
      " &x_4 = 0,\\\\\n",
      " &x_5 = 0,\\\\\n",
      " w_{1} = 76, w_{2} = 108, w_{3} = 30, w_{4} = 107, w_{5} = 66, w_{6} = 121, w_{7} = 29, w_{8} = 95, w_{9} = 56, w_{10} = 30, \n",
      "39027\n"
     ]
    }
   ],
   "source": [
    "tmp_x = np.zeros(n)\n",
    "print(x)\n",
    "for i in range(p):\n",
    "    tmp_x[np.argmax(x)] = 1\n",
    "    x[np.argmax(x)] = 0\n",
    "\n",
    "for i in range(n):\n",
    "    print(f\"&x_{i+1} = {int(tmp_x[i])}\", end=',\\\\\\\\\\n ')\n",
    "for i in range(m):\n",
    "    print(f\"w_{{{i+1}}} = {min(d[i,tmp_x.astype(bool)])}\", end=', ')\n",
    "print()\n",
    "print(objfunc(h,d,tmp_x))"
   ]
  },
  {
   "cell_type": "code",
   "execution_count": 148,
   "metadata": {},
   "outputs": [
    {
     "name": "stdout",
     "output_type": "stream",
     "text": [
      "0.4451764245769263\n",
      "125000000\n",
      "50000000000\n"
     ]
    }
   ],
   "source": [
    "a = 117810.4228\n",
    "b = 65364\n",
    "\n",
    "print((a-b)/a)\n",
    "print(pow(500,3))\n",
    "print(pow(100,4)*500)"
   ]
  }
 ],
 "metadata": {
  "kernelspec": {
   "display_name": "or",
   "language": "python",
   "name": "python3"
  },
  "language_info": {
   "codemirror_mode": {
    "name": "ipython",
    "version": 3
   },
   "file_extension": ".py",
   "mimetype": "text/x-python",
   "name": "python",
   "nbconvert_exporter": "python",
   "pygments_lexer": "ipython3",
   "version": "3.12.2"
  }
 },
 "nbformat": 4,
 "nbformat_minor": 2
}
