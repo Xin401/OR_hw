{
 "cells": [
  {
   "cell_type": "code",
   "execution_count": null,
   "metadata": {},
   "outputs": [],
   "source": [
    "from gurobipy import *\n",
    "\n",
    "# 建立模型\n",
    "m = Model(\"hw1\")\n",
    "C_P = [400,350]\n",
    "C_H = 80\n",
    "I = 200\n",
    "# 定義變數\n",
    "x = m.addVars(6, m, name=\"x\")\n",
    "h = m.addVars(7, name=\"h\")\n",
    "\n",
    "# 定義目標函數\n",
    "m.setObjective(sum(C_P[i]*x[t, i] for t in range(6) for i in range(len(C_P))) + C_H*sum(h[t] for t in range(1, 7)), GRB.MINIMIZE)\n",
    "\n",
    "# 定義限制條件\n",
    "m.addConstr(h[0] == I)\n",
    "for t in range(1, 7):\n",
    "    m.addConstr(h[t] == h[t-1] + sum(x[t, i] for i in range(m)) - D[t])\n",
    "for t in range(1, 7):\n",
    "    for i in range(m):\n",
    "        m.addConstr(x[t, i]*L[i] <= K)\n",
    "        m.addConstr(x[t, i] >= 0)\n",
    "    m.addConstr(h[t] >= 0)\n",
    "\n",
    "# 優化模型\n",
    "m.optimize()\n",
    "\n",
    "# 輸出結果\n",
    "for v in m.getVars():\n",
    "    print('%s %g' % (v.varName, v.x))\n",
    "print('目標值: %g' % m.objVal)"
   ]
  }
 ],
 "metadata": {
  "language_info": {
   "name": "python"
  }
 },
 "nbformat": 4,
 "nbformat_minor": 2
}
