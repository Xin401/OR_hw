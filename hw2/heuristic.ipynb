{
 "cells": [
  {
   "cell_type": "code",
   "execution_count": 5,
   "metadata": {},
   "outputs": [],
   "source": [
    "import numpy as np\n",
    "import pandas as pd"
   ]
  },
  {
   "cell_type": "markdown",
   "metadata": {},
   "source": [
    "### Load parameter"
   ]
  },
  {
   "cell_type": "code",
   "execution_count": 49,
   "metadata": {},
   "outputs": [],
   "source": [
    "sheet = \"Problem 3 Instance 1\"\n",
    "file = \"OR112-2_hw02_data.xlsx\"\n",
    "\n",
    "m = pd.read_excel(file,usecols=\"B:B\",nrows=1,sheet_name=sheet)\n",
    "m = int(m.columns.item())\n",
    "n = pd.read_excel(file,usecols=\"B:B\",skiprows=range(1),nrows=1,sheet_name=sheet)\n",
    "n = int(n.columns.item())\n",
    "p = pd.read_excel(file,usecols=\"B:B\",skiprows=range(2),nrows=1,sheet_name=sheet)\n",
    "p = int(p.columns.item())\n",
    "\n",
    "d = pd.read_excel(file,usecols=\"E:\"+chr(ord('E')+n-1),skiprows=range(4),nrows=m,sheet_name=sheet)\n",
    "d = d.to_numpy()\n",
    "\n",
    "h = pd.read_excel(file,usecols=\"B:B\",skiprows=range(4),nrows=m,sheet_name=sheet)\n",
    "h = h.to_numpy()"
   ]
  },
  {
   "cell_type": "markdown",
   "metadata": {},
   "source": [
    "### Variables"
   ]
  },
  {
   "cell_type": "code",
   "execution_count": 47,
   "metadata": {},
   "outputs": [],
   "source": [
    "x = np.ones(n)\n",
    "w = [np.min(d[i]) for i in range(m)]\n",
    "\n",
    "total = sum(h[i]*w[i] for i in range(m)).item()\n"
   ]
  },
  {
   "cell_type": "markdown",
   "metadata": {},
   "source": [
    "### Algorithm"
   ]
  },
  {
   "cell_type": "code",
   "execution_count": 45,
   "metadata": {},
   "outputs": [],
   "source": [
    "def objfunc(h,d,x):\n",
    "    total = 0\n",
    "    for i in range(h.shape[0]):\n",
    "        total += h[i] * min(d[i,x.astype(bool)])\n",
    "    return total.item()\n",
    "\n",
    "def column_sum(h,d,x):\n",
    "    column_sums = np.zeros(x.shape[0])\n",
    "    for i in range(h.shape[0]):\n",
    "        column_sums[np.argmin(d[i,x.astype(bool)])] += (h[i] * min(d[i,x.astype(bool)])).item()\n",
    "    return column_sums\n",
    "\n"
   ]
  },
  {
   "cell_type": "code",
   "execution_count": 51,
   "metadata": {},
   "outputs": [
    {
     "name": "stdout",
     "output_type": "stream",
     "text": [
      "17423\n",
      "[6588.  780. 2244. 3128. 4683.]\n",
      "28057\n",
      "[1. 0. 1. 1. 0.]\n"
     ]
    }
   ],
   "source": [
    "x = np.ones(n)\n",
    "for i in range(n-p):\n",
    "    x[np.argmin(column_sum(h,d,x))] = 0\n",
    "print(objfunc(h,d,x))\n",
    "print(x)"
   ]
  }
 ],
 "metadata": {
  "kernelspec": {
   "display_name": "or",
   "language": "python",
   "name": "python3"
  },
  "language_info": {
   "codemirror_mode": {
    "name": "ipython",
    "version": 3
   },
   "file_extension": ".py",
   "mimetype": "text/x-python",
   "name": "python",
   "nbconvert_exporter": "python",
   "pygments_lexer": "ipython3",
   "version": "3.12.2"
  }
 },
 "nbformat": 4,
 "nbformat_minor": 2
}
