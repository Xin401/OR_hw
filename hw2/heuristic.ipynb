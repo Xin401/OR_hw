{
 "cells": [
  {
   "cell_type": "code",
   "execution_count": 99,
   "metadata": {},
   "outputs": [],
   "source": [
    "import numpy as np\n",
    "import pandas as pd"
   ]
  },
  {
   "cell_type": "markdown",
   "metadata": {},
   "source": [
    "### Load parameter"
   ]
  },
  {
   "cell_type": "code",
   "execution_count": 100,
   "metadata": {},
   "outputs": [],
   "source": [
    "sheet = \"Problem 3 Instance 1\"\n",
    "file = \"OR112-2_hw02_data.xlsx\"\n",
    "\n",
    "m = pd.read_excel(file,usecols=\"B:B\",nrows=1,sheet_name=sheet)\n",
    "m = int(m.columns.item())\n",
    "n = pd.read_excel(file,usecols=\"B:B\",skiprows=range(1),nrows=1,sheet_name=sheet)\n",
    "n = int(n.columns.item())\n",
    "p = pd.read_excel(file,usecols=\"B:B\",skiprows=range(2),nrows=1,sheet_name=sheet)\n",
    "p = int(p.columns.item())\n",
    "\n",
    "d = pd.read_excel(file,usecols=\"E:\"+chr(ord('E')+n-1),skiprows=range(4),nrows=m,sheet_name=sheet)\n",
    "d = d.to_numpy()\n",
    "\n",
    "h = pd.read_excel(file,usecols=\"B:B\",skiprows=range(4),nrows=m,sheet_name=sheet)\n",
    "h = h.to_numpy()"
   ]
  },
  {
   "cell_type": "markdown",
   "metadata": {},
   "source": [
    "### Variables"
   ]
  },
  {
   "cell_type": "code",
   "execution_count": 101,
   "metadata": {},
   "outputs": [],
   "source": [
    "x = np.ones(n)\n",
    "w = [np.min(d[i]) for i in range(m)]\n",
    "\n",
    "total = sum(h[i]*w[i] for i in range(m)).item()\n"
   ]
  },
  {
   "cell_type": "markdown",
   "metadata": {},
   "source": [
    "### Algorithm"
   ]
  },
  {
   "cell_type": "code",
   "execution_count": 102,
   "metadata": {},
   "outputs": [],
   "source": [
    "def objfunc(h,d,x):\n",
    "    total = 0\n",
    "    for i in range(h.shape[0]):\n",
    "        total += h[i] * min(d[i,x.astype(bool)])\n",
    "    return total.item()\n",
    "\n"
   ]
  },
  {
   "cell_type": "code",
   "execution_count": 103,
   "metadata": {},
   "outputs": [
    {
     "name": "stdout",
     "output_type": "stream",
     "text": [
      "[1. 1. 1. 0. 0.]\n",
      "39027\n"
     ]
    }
   ],
   "source": [
    "x = np.ones(n)\n",
    "for i in range(n-p):\n",
    "    total = np.zeros(n)\n",
    "    for j in range(n-i):\n",
    "        tmp_x = x.copy()\n",
    "        if tmp_x[j] == 1:\n",
    "            tmp_x[j] = 0\n",
    "            total[j] = objfunc(h,d,tmp_x)\n",
    "    x[np.argmax(total)] = 0\n",
    "print(x)\n",
    "print(objfunc(h,d,x))\n"
   ]
  }
 ],
 "metadata": {
  "kernelspec": {
   "display_name": "or",
   "language": "python",
   "name": "python3"
  },
  "language_info": {
   "codemirror_mode": {
    "name": "ipython",
    "version": 3
   },
   "file_extension": ".py",
   "mimetype": "text/x-python",
   "name": "python",
   "nbconvert_exporter": "python",
   "pygments_lexer": "ipython3",
   "version": "3.12.2"
  }
 },
 "nbformat": 4,
 "nbformat_minor": 2
}
